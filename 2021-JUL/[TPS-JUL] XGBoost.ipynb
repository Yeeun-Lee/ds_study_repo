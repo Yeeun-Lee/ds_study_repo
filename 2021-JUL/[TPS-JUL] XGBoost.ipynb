{
 "cells": [
  {
   "cell_type": "markdown",
   "id": "intellectual-fortune",
   "metadata": {},
   "source": [
    "## Tabular Playground Series"
   ]
  },
  {
   "cell_type": "code",
   "execution_count": 1,
   "id": "completed-cornwall",
   "metadata": {},
   "outputs": [
    {
     "name": "stdout",
     "output_type": "stream",
     "text": [
      "['.ipynb_checkpoints', 'sample_submission.csv', 'submission.csv', 'tabular-playground-series-jul-2021.zip', 'test.csv', 'train.csv', '[TPS-JUL] XGBoost.ipynb']\n"
     ]
    }
   ],
   "source": [
    "import pandas as pd\n",
    "import numpy as np\n",
    "import os\n",
    "\n",
    "print(os.listdir())"
   ]
  },
  {
   "cell_type": "code",
   "execution_count": 2,
   "id": "dimensional-rough",
   "metadata": {},
   "outputs": [
    {
     "data": {
      "text/html": [
       "<div>\n",
       "<style scoped>\n",
       "    .dataframe tbody tr th:only-of-type {\n",
       "        vertical-align: middle;\n",
       "    }\n",
       "\n",
       "    .dataframe tbody tr th {\n",
       "        vertical-align: top;\n",
       "    }\n",
       "\n",
       "    .dataframe thead th {\n",
       "        text-align: right;\n",
       "    }\n",
       "</style>\n",
       "<table border=\"1\" class=\"dataframe\">\n",
       "  <thead>\n",
       "    <tr style=\"text-align: right;\">\n",
       "      <th></th>\n",
       "      <th>date_time</th>\n",
       "      <th>deg_C</th>\n",
       "      <th>relative_humidity</th>\n",
       "      <th>absolute_humidity</th>\n",
       "      <th>sensor_1</th>\n",
       "      <th>sensor_2</th>\n",
       "      <th>sensor_3</th>\n",
       "      <th>sensor_4</th>\n",
       "      <th>sensor_5</th>\n",
       "      <th>target_carbon_monoxide</th>\n",
       "      <th>target_benzene</th>\n",
       "      <th>target_nitrogen_oxides</th>\n",
       "    </tr>\n",
       "  </thead>\n",
       "  <tbody>\n",
       "    <tr>\n",
       "      <th>0</th>\n",
       "      <td>2010-03-10 18:00:00</td>\n",
       "      <td>13.1</td>\n",
       "      <td>46.0</td>\n",
       "      <td>0.7578</td>\n",
       "      <td>1387.2</td>\n",
       "      <td>1087.8</td>\n",
       "      <td>1056.0</td>\n",
       "      <td>1742.8</td>\n",
       "      <td>1293.4</td>\n",
       "      <td>2.5</td>\n",
       "      <td>12.0</td>\n",
       "      <td>167.7</td>\n",
       "    </tr>\n",
       "    <tr>\n",
       "      <th>1</th>\n",
       "      <td>2010-03-10 19:00:00</td>\n",
       "      <td>13.2</td>\n",
       "      <td>45.3</td>\n",
       "      <td>0.7255</td>\n",
       "      <td>1279.1</td>\n",
       "      <td>888.2</td>\n",
       "      <td>1197.5</td>\n",
       "      <td>1449.9</td>\n",
       "      <td>1010.9</td>\n",
       "      <td>2.1</td>\n",
       "      <td>9.9</td>\n",
       "      <td>98.9</td>\n",
       "    </tr>\n",
       "    <tr>\n",
       "      <th>2</th>\n",
       "      <td>2010-03-10 20:00:00</td>\n",
       "      <td>12.6</td>\n",
       "      <td>56.2</td>\n",
       "      <td>0.7502</td>\n",
       "      <td>1331.9</td>\n",
       "      <td>929.6</td>\n",
       "      <td>1060.2</td>\n",
       "      <td>1586.1</td>\n",
       "      <td>1117.0</td>\n",
       "      <td>2.2</td>\n",
       "      <td>9.2</td>\n",
       "      <td>127.1</td>\n",
       "    </tr>\n",
       "  </tbody>\n",
       "</table>\n",
       "</div>"
      ],
      "text/plain": [
       "             date_time  deg_C  relative_humidity  absolute_humidity  sensor_1  \\\n",
       "0  2010-03-10 18:00:00   13.1               46.0             0.7578    1387.2   \n",
       "1  2010-03-10 19:00:00   13.2               45.3             0.7255    1279.1   \n",
       "2  2010-03-10 20:00:00   12.6               56.2             0.7502    1331.9   \n",
       "\n",
       "   sensor_2  sensor_3  sensor_4  sensor_5  target_carbon_monoxide  \\\n",
       "0    1087.8    1056.0    1742.8    1293.4                     2.5   \n",
       "1     888.2    1197.5    1449.9    1010.9                     2.1   \n",
       "2     929.6    1060.2    1586.1    1117.0                     2.2   \n",
       "\n",
       "   target_benzene  target_nitrogen_oxides  \n",
       "0            12.0                   167.7  \n",
       "1             9.9                    98.9  \n",
       "2             9.2                   127.1  "
      ]
     },
     "execution_count": 2,
     "metadata": {},
     "output_type": "execute_result"
    }
   ],
   "source": [
    "train = pd.read_csv('train.csv')\n",
    "train.head(3)"
   ]
  },
  {
   "cell_type": "markdown",
   "id": "august-cycle",
   "metadata": {},
   "source": [
    "### EDA"
   ]
  },
  {
   "cell_type": "code",
   "execution_count": 3,
   "id": "maritime-husband",
   "metadata": {},
   "outputs": [
    {
     "name": "stdout",
     "output_type": "stream",
     "text": [
      "<class 'pandas.core.frame.DataFrame'>\n",
      "RangeIndex: 7111 entries, 0 to 7110\n",
      "Data columns (total 12 columns):\n",
      " #   Column                  Non-Null Count  Dtype  \n",
      "---  ------                  --------------  -----  \n",
      " 0   date_time               7111 non-null   object \n",
      " 1   deg_C                   7111 non-null   float64\n",
      " 2   relative_humidity       7111 non-null   float64\n",
      " 3   absolute_humidity       7111 non-null   float64\n",
      " 4   sensor_1                7111 non-null   float64\n",
      " 5   sensor_2                7111 non-null   float64\n",
      " 6   sensor_3                7111 non-null   float64\n",
      " 7   sensor_4                7111 non-null   float64\n",
      " 8   sensor_5                7111 non-null   float64\n",
      " 9   target_carbon_monoxide  7111 non-null   float64\n",
      " 10  target_benzene          7111 non-null   float64\n",
      " 11  target_nitrogen_oxides  7111 non-null   float64\n",
      "dtypes: float64(11), object(1)\n",
      "memory usage: 666.8+ KB\n"
     ]
    }
   ],
   "source": [
    "train.info()"
   ]
  },
  {
   "cell_type": "code",
   "execution_count": 4,
   "id": "minimal-pendant",
   "metadata": {},
   "outputs": [],
   "source": [
    "# targets\n",
    "targets = ['target_carbon_monoxide','target_benzene','target_nitrogen_oxides']\n",
    "# sensors\n",
    "sensors = ['sensor_1', 'sensor_2', 'sensor_3', 'sensor_4', 'sensor_5']"
   ]
  },
  {
   "cell_type": "markdown",
   "id": "mobile-treatment",
   "metadata": {},
   "source": [
    "### Scaling"
   ]
  },
  {
   "cell_type": "code",
   "execution_count": 5,
   "id": "wound-piano",
   "metadata": {},
   "outputs": [],
   "source": [
    "import matplotlib.pyplot as plt\n",
    "import seaborn as sns\n",
    "\n",
    "def sensors_dist(data, title):\n",
    "    fig = plt.figure(figsize = (16, 8))\n",
    "\n",
    "    ax1 = fig.add_subplot(2, 3, 1)\n",
    "    ax1 = sns.histplot(data['sensor_1'])\n",
    "\n",
    "    ax2 = fig.add_subplot(2, 3, 2)\n",
    "    ax2 = sns.histplot(data['sensor_2'])\n",
    "\n",
    "    ax3 = fig.add_subplot(2, 3, 3)\n",
    "    ax3 = sns.histplot(data['sensor_3'])\n",
    "\n",
    "    ax4 = fig.add_subplot(2, 3, 4)\n",
    "    ax4 = sns.histplot(data['sensor_4'])\n",
    "\n",
    "    ax5 = fig.add_subplot(2, 3, 5)\n",
    "    ax5 = sns.histplot(data['sensor_5'])\n",
    "\n",
    "    fig.suptitle(title, fontsize = 20)\n",
    "    plt.show()"
   ]
  },
  {
   "cell_type": "code",
   "execution_count": 6,
   "id": "serial-delicious",
   "metadata": {},
   "outputs": [
    {
     "data": {
      "image/png": "[encoded data removed]",
      "text/plain": [
       "<Figure size 1152x576 with 5 Axes>"
      ]
     },
     "metadata": {
      "needs_background": "light"
     },
     "output_type": "display_data"
    }
   ],
   "source": [
    "sensors_dist(train, \"Distribution of Sensors(Original data)\")"
   ]
  },
  {
   "cell_type": "code",
   "execution_count": 7,
   "id": "limiting-cornwall",
   "metadata": {},
   "outputs": [
    {
     "data": {
      "text/html": [
       "<div>\n",
       "<style scoped>\n",
       "    .dataframe tbody tr th:only-of-type {\n",
       "        vertical-align: middle;\n",
       "    }\n",
       "\n",
       "    .dataframe tbody tr th {\n",
       "        vertical-align: top;\n",
       "    }\n",
       "\n",
       "    .dataframe thead th {\n",
       "        text-align: right;\n",
       "    }\n",
       "</style>\n",
       "<table border=\"1\" class=\"dataframe\">\n",
       "  <thead>\n",
       "    <tr style=\"text-align: right;\">\n",
       "      <th></th>\n",
       "      <th>sensor_1</th>\n",
       "      <th>sensor_2</th>\n",
       "      <th>sensor_3</th>\n",
       "      <th>sensor_4</th>\n",
       "      <th>sensor_5</th>\n",
       "    </tr>\n",
       "  </thead>\n",
       "  <tbody>\n",
       "    <tr>\n",
       "      <th>mean</th>\n",
       "      <td>1091.572100</td>\n",
       "      <td>938.064970</td>\n",
       "      <td>883.903305</td>\n",
       "      <td>1513.238349</td>\n",
       "      <td>998.335565</td>\n",
       "    </tr>\n",
       "    <tr>\n",
       "      <th>std</th>\n",
       "      <td>218.537554</td>\n",
       "      <td>281.978988</td>\n",
       "      <td>310.456355</td>\n",
       "      <td>350.180310</td>\n",
       "      <td>381.537695</td>\n",
       "    </tr>\n",
       "  </tbody>\n",
       "</table>\n",
       "</div>"
      ],
      "text/plain": [
       "         sensor_1    sensor_2    sensor_3     sensor_4    sensor_5\n",
       "mean  1091.572100  938.064970  883.903305  1513.238349  998.335565\n",
       "std    218.537554  281.978988  310.456355   350.180310  381.537695"
      ]
     },
     "execution_count": 7,
     "metadata": {},
     "output_type": "execute_result"
    }
   ],
   "source": [
    "train.describe()[sensors].loc[['mean', 'std']]"
   ]
  },
  {
   "cell_type": "code",
   "execution_count": 8,
   "id": "acoustic-headquarters",
   "metadata": {},
   "outputs": [
    {
     "data": {
      "image/png": "[encoded data removed]",
      "text/plain": [
       "<Figure size 1152x576 with 5 Axes>"
      ]
     },
     "metadata": {
      "needs_background": "light"
     },
     "output_type": "display_data"
    },
    {
     "data": {
      "text/html": [
       "<div>\n",
       "<style scoped>\n",
       "    .dataframe tbody tr th:only-of-type {\n",
       "        vertical-align: middle;\n",
       "    }\n",
       "\n",
       "    .dataframe tbody tr th {\n",
       "        vertical-align: top;\n",
       "    }\n",
       "\n",
       "    .dataframe thead th {\n",
       "        text-align: right;\n",
       "    }\n",
       "</style>\n",
       "<table border=\"1\" class=\"dataframe\">\n",
       "  <thead>\n",
       "    <tr style=\"text-align: right;\">\n",
       "      <th></th>\n",
       "      <th>sensor_1</th>\n",
       "      <th>sensor_2</th>\n",
       "      <th>sensor_3</th>\n",
       "      <th>sensor_4</th>\n",
       "      <th>sensor_5</th>\n",
       "    </tr>\n",
       "  </thead>\n",
       "  <tbody>\n",
       "    <tr>\n",
       "      <th>mean</th>\n",
       "      <td>0</td>\n",
       "      <td>0</td>\n",
       "      <td>0</td>\n",
       "      <td>0</td>\n",
       "      <td>0</td>\n",
       "    </tr>\n",
       "    <tr>\n",
       "      <th>std</th>\n",
       "      <td>1</td>\n",
       "      <td>1</td>\n",
       "      <td>1</td>\n",
       "      <td>1</td>\n",
       "      <td>1</td>\n",
       "    </tr>\n",
       "  </tbody>\n",
       "</table>\n",
       "</div>"
      ],
      "text/plain": [
       "      sensor_1  sensor_2  sensor_3  sensor_4  sensor_5\n",
       "mean         0         0         0         0         0\n",
       "std          1         1         1         1         1"
      ]
     },
     "execution_count": 8,
     "metadata": {},
     "output_type": "execute_result"
    }
   ],
   "source": [
    "# standard scaling\n",
    "from sklearn.preprocessing import StandardScaler\n",
    "\n",
    "train_1 = train.copy() # copy data before scaling\n",
    "scalers = [] # 5 sensors -> 5 scalers\n",
    "for se in sensors:\n",
    "    std_scaler = StandardScaler()\n",
    "    train_1[se] = std_scaler.fit_transform(np.array(train_1[se]).reshape(-1, 1))\n",
    "    scalers.append(std_scaler)\n",
    "sensors_dist(train_1, \"Distribution of Sensors(Scaled data)\")\n",
    "train_1.describe()[sensors].loc[['mean', 'std']].astype(\"i\")"
   ]
  },
  {
   "cell_type": "markdown",
   "id": "spare-artwork",
   "metadata": {},
   "source": [
    "### Feature Engineering"
   ]
  },
  {
   "cell_type": "code",
   "execution_count": 9,
   "id": "standard-weekly",
   "metadata": {},
   "outputs": [
    {
     "data": {
      "text/html": [
       "<div>\n",
       "<style scoped>\n",
       "    .dataframe tbody tr th:only-of-type {\n",
       "        vertical-align: middle;\n",
       "    }\n",
       "\n",
       "    .dataframe tbody tr th {\n",
       "        vertical-align: top;\n",
       "    }\n",
       "\n",
       "    .dataframe thead th {\n",
       "        text-align: right;\n",
       "    }\n",
       "</style>\n",
       "<table border=\"1\" class=\"dataframe\">\n",
       "  <thead>\n",
       "    <tr style=\"text-align: right;\">\n",
       "      <th></th>\n",
       "      <th>deg_C</th>\n",
       "      <th>relative_humidity</th>\n",
       "      <th>absolute_humidity</th>\n",
       "      <th>sensor_1</th>\n",
       "      <th>sensor_2</th>\n",
       "      <th>sensor_3</th>\n",
       "      <th>sensor_4</th>\n",
       "      <th>sensor_5</th>\n",
       "      <th>target_carbon_monoxide</th>\n",
       "      <th>target_benzene</th>\n",
       "      <th>target_nitrogen_oxides</th>\n",
       "      <th>numOfWeek</th>\n",
       "      <th>hour</th>\n",
       "    </tr>\n",
       "  </thead>\n",
       "  <tbody>\n",
       "    <tr>\n",
       "      <th>7108</th>\n",
       "      <td>9.6</td>\n",
       "      <td>34.6</td>\n",
       "      <td>0.4310</td>\n",
       "      <td>-0.215869</td>\n",
       "      <td>-0.605637</td>\n",
       "      <td>-0.070879</td>\n",
       "      <td>-1.782174</td>\n",
       "      <td>0.421389</td>\n",
       "      <td>1.6</td>\n",
       "      <td>5.2</td>\n",
       "      <td>227.4</td>\n",
       "      <td>52</td>\n",
       "      <td>22</td>\n",
       "    </tr>\n",
       "    <tr>\n",
       "      <th>7109</th>\n",
       "      <td>8.0</td>\n",
       "      <td>40.7</td>\n",
       "      <td>0.4085</td>\n",
       "      <td>-0.635048</td>\n",
       "      <td>-0.873052</td>\n",
       "      <td>0.079233</td>\n",
       "      <td>-1.702781</td>\n",
       "      <td>0.545108</td>\n",
       "      <td>1.5</td>\n",
       "      <td>4.6</td>\n",
       "      <td>199.8</td>\n",
       "      <td>52</td>\n",
       "      <td>23</td>\n",
       "    </tr>\n",
       "    <tr>\n",
       "      <th>7110</th>\n",
       "      <td>8.0</td>\n",
       "      <td>41.3</td>\n",
       "      <td>0.4375</td>\n",
       "      <td>0.078838</td>\n",
       "      <td>-0.682244</td>\n",
       "      <td>-0.279619</td>\n",
       "      <td>-1.808448</td>\n",
       "      <td>0.720201</td>\n",
       "      <td>1.4</td>\n",
       "      <td>4.1</td>\n",
       "      <td>186.5</td>\n",
       "      <td>52</td>\n",
       "      <td>0</td>\n",
       "    </tr>\n",
       "  </tbody>\n",
       "</table>\n",
       "</div>"
      ],
      "text/plain": [
       "      deg_C  relative_humidity  absolute_humidity  sensor_1  sensor_2  \\\n",
       "7108    9.6               34.6             0.4310 -0.215869 -0.605637   \n",
       "7109    8.0               40.7             0.4085 -0.635048 -0.873052   \n",
       "7110    8.0               41.3             0.4375  0.078838 -0.682244   \n",
       "\n",
       "      sensor_3  sensor_4  sensor_5  target_carbon_monoxide  target_benzene  \\\n",
       "7108 -0.070879 -1.782174  0.421389                     1.6             5.2   \n",
       "7109  0.079233 -1.702781  0.545108                     1.5             4.6   \n",
       "7110 -0.279619 -1.808448  0.720201                     1.4             4.1   \n",
       "\n",
       "      target_nitrogen_oxides  numOfWeek  hour  \n",
       "7108                   227.4         52    22  \n",
       "7109                   199.8         52    23  \n",
       "7110                   186.5         52     0  "
      ]
     },
     "execution_count": 9,
     "metadata": {},
     "output_type": "execute_result"
    }
   ],
   "source": [
    "# transform time feature into numerical\n",
    "from datetime import datetime\n",
    "\n",
    "def get_weeknum(x):\n",
    "    return datetime.strptime(x, \"%Y-%m-%d %H:%M:%S\").strftime(\"%V\")\n",
    "def get_hour(x):\n",
    "    return datetime.strptime(x, \"%Y-%m-%d %H:%M:%S\").strftime(\"%H\")\n",
    "\n",
    "train_1['numOfWeek'] = train_1['date_time'].apply(lambda x: get_weeknum(x)).astype('int')\n",
    "train_1['hour'] = train_1['date_time'].apply(lambda x: get_hour(x)).astype('int')\n",
    "train_1.drop(['date_time'], axis = 1, inplace = True)\n",
    "train_1.tail(3)"
   ]
  },
  {
   "cell_type": "markdown",
   "id": "incredible-special",
   "metadata": {},
   "source": [
    "### Data Preparation(for baseline modeling)"
   ]
  },
  {
   "cell_type": "code",
   "execution_count": 10,
   "id": "nasty-success",
   "metadata": {},
   "outputs": [
    {
     "name": "stdout",
     "output_type": "stream",
     "text": [
      "(7087, 10)\n",
      "(7087, 3)\n",
      "(24, 10)\n",
      "(24, 3)\n"
     ]
    }
   ],
   "source": [
    "# data preparation\n",
    "# task : predict next 24 hours \n",
    "train_data = train_1[:-24]\n",
    "valid_data = train_1.tail(24)\n",
    "\n",
    "x_train = train_data.drop(targets, axis = 1)\n",
    "y_train = train_data[targets]\n",
    "\n",
    "x_valid = valid_data.drop(targets, axis = 1)\n",
    "y_valid = valid_data[targets]\n",
    "\n",
    "print(x_train.shape)\n",
    "print(y_train.shape)\n",
    "print(x_valid.shape)\n",
    "print(y_valid.shape)"
   ]
  },
  {
   "cell_type": "markdown",
   "id": "interpreted-validation",
   "metadata": {},
   "source": [
    "#### 01. XGBoost"
   ]
  },
  {
   "cell_type": "code",
   "execution_count": 19,
   "id": "early-syracuse",
   "metadata": {},
   "outputs": [],
   "source": [
    "import xgboost as xgb\n",
    "import random\n",
    "\n",
    "def make_xgb_dmatrix(feat:pd.DataFrame = None, \n",
    "                     label:pd.DataFrame = None,\n",
    "                     test : bool = False,\n",
    "                     targets:list = None):\n",
    "    if not test:\n",
    "        mats = []\n",
    "        for t in targets:\n",
    "            dmat = xgb.DMatrix(feat, label = label[t])\n",
    "            mats.append(dmat)\n",
    "        return mats\n",
    "    else:\n",
    "        return xgb.DMatrix(feat)\n",
    "\n",
    "dtrains = make_xgb_dmatrix(feat = x_train, label = y_train, test = False, targets = targets)\n",
    "dtests = make_xgb_dmatrix(feat = x_valid, label = y_valid, test = False, targets = targets)\n",
    "models = []"
   ]
  },
  {
   "cell_type": "code",
   "execution_count": 20,
   "id": "collaborative-opposition",
   "metadata": {},
   "outputs": [
    {
     "name": "stdout",
     "output_type": "stream",
     "text": [
      "####### target_carbon_monoxide         training #########\n",
      "[0]\teval-rmsle:0.29926\ttrain-rmsle:0.65663\n",
      "[10]\teval-rmsle:0.08197\ttrain-rmsle:0.14113\n",
      "[20]\teval-rmsle:0.08225\ttrain-rmsle:0.09757\n",
      "[30]\teval-rmsle:0.09342\ttrain-rmsle:0.08925\n",
      "[40]\teval-rmsle:0.10163\ttrain-rmsle:0.08550\n",
      "[50]\teval-rmsle:0.11404\ttrain-rmsle:0.08055\n",
      "[60]\teval-rmsle:0.12435\ttrain-rmsle:0.07667\n",
      "[70]\teval-rmsle:0.12670\ttrain-rmsle:0.07346\n",
      "[80]\teval-rmsle:0.11986\ttrain-rmsle:0.06981\n",
      "[90]\teval-rmsle:0.11962\ttrain-rmsle:0.06739\n",
      "[99]\teval-rmsle:0.11944\ttrain-rmsle:0.06570\n",
      "####### target_benzene                 training #########\n",
      "[0]\teval-rmsle:1.05431\ttrain-rmsle:1.75555\n",
      "[10]\teval-rmsle:0.15879\ttrain-rmsle:0.49978\n",
      "[20]\teval-rmsle:0.10301\ttrain-rmsle:0.13097\n",
      "[30]\teval-rmsle:0.10543\ttrain-rmsle:0.09764\n",
      "[40]\teval-rmsle:0.10427\ttrain-rmsle:0.09180\n",
      "[50]\teval-rmsle:0.10460\ttrain-rmsle:0.08886\n",
      "[60]\teval-rmsle:0.10825\ttrain-rmsle:0.08702\n",
      "[70]\teval-rmsle:0.10820\ttrain-rmsle:0.08538\n",
      "[80]\teval-rmsle:0.10877\ttrain-rmsle:0.08296\n",
      "[90]\teval-rmsle:0.10985\ttrain-rmsle:0.08122\n",
      "[99]\teval-rmsle:0.10930\ttrain-rmsle:0.07960\n",
      "####### target_nitrogen_oxides         training #########\n",
      "[0]\teval-rmsle:4.40539\ttrain-rmsle:4.41321\n",
      "[10]\teval-rmsle:2.38406\ttrain-rmsle:2.41819\n",
      "[20]\teval-rmsle:1.08443\ttrain-rmsle:1.11692\n",
      "[30]\teval-rmsle:0.68848\ttrain-rmsle:0.82161\n",
      "[39]\teval-rmsle:0.68848\ttrain-rmsle:0.82161\n"
     ]
    }
   ],
   "source": [
    "for i, (dtrain, dtest) in enumerate(zip(dtrains, dtests)):\n",
    "    print(\"####### {:30} training #########\".format(targets[i]))\n",
    "    param = {\n",
    "        \"objective\" : \"reg:squaredlogerror\",\n",
    "        \"eval_metric\" : \"rmsle\",\n",
    "        \"seed\" : random.randint(1, 10000)\n",
    "    }\n",
    "    eval_list = [(dtest, \"eval\"), (dtrain, \"train\")]\n",
    "    num_round = 100\n",
    "    model = xgb.train(param, dtrain, num_round, eval_list, early_stopping_rounds = 10, verbose_eval = 10)\n",
    "    models.append(model)"
   ]
  },
  {
   "cell_type": "code",
   "execution_count": 21,
   "id": "figured-wheat",
   "metadata": {},
   "outputs": [
    {
     "name": "stdout",
     "output_type": "stream",
     "text": [
      "RMSLE of target_carbon_monoxide : 0.12\n",
      "RMSLE of target_benzene : 0.11\n",
      "RMSLE of target_nitrogen_oxides : 0.69\n",
      "Average RMSLE of targets :  0.3057407849960603\n"
     ]
    }
   ],
   "source": [
    "# evaluation\n",
    "from sklearn.metrics import mean_squared_log_error as msle\n",
    "scores = []\n",
    "\n",
    "for i, dtest in enumerate(dtests):\n",
    "    ypred = models[i].predict(dtest)\n",
    "    score = np.sqrt(msle(y_valid[targets[i]].values, ypred))\n",
    "    scores.append(score)\n",
    "    print(\"RMSLE of {} : {:.2f}\".format(targets[i], score))\n",
    "print(\"Average RMSLE of targets : \", np.mean(scores))"
   ]
  },
  {
   "cell_type": "code",
   "execution_count": 22,
   "id": "mineral-damages",
   "metadata": {},
   "outputs": [
    {
     "data": {
      "text/html": [
       "<div>\n",
       "<style scoped>\n",
       "    .dataframe tbody tr th:only-of-type {\n",
       "        vertical-align: middle;\n",
       "    }\n",
       "\n",
       "    .dataframe tbody tr th {\n",
       "        vertical-align: top;\n",
       "    }\n",
       "\n",
       "    .dataframe thead th {\n",
       "        text-align: right;\n",
       "    }\n",
       "</style>\n",
       "<table border=\"1\" class=\"dataframe\">\n",
       "  <thead>\n",
       "    <tr style=\"text-align: right;\">\n",
       "      <th></th>\n",
       "      <th>date_time</th>\n",
       "      <th>target_carbon_monoxide</th>\n",
       "      <th>target_benzene</th>\n",
       "      <th>target_nitrogen_oxides</th>\n",
       "    </tr>\n",
       "  </thead>\n",
       "  <tbody>\n",
       "    <tr>\n",
       "      <th>0</th>\n",
       "      <td>2011-01-01 00:00:00</td>\n",
       "      <td>2.0</td>\n",
       "      <td>10.0</td>\n",
       "      <td>300.0</td>\n",
       "    </tr>\n",
       "    <tr>\n",
       "      <th>1</th>\n",
       "      <td>2011-01-01 01:00:00</td>\n",
       "      <td>2.0</td>\n",
       "      <td>10.0</td>\n",
       "      <td>300.0</td>\n",
       "    </tr>\n",
       "    <tr>\n",
       "      <th>2</th>\n",
       "      <td>2011-01-01 02:00:00</td>\n",
       "      <td>2.0</td>\n",
       "      <td>10.0</td>\n",
       "      <td>300.0</td>\n",
       "    </tr>\n",
       "    <tr>\n",
       "      <th>3</th>\n",
       "      <td>2011-01-01 03:00:00</td>\n",
       "      <td>2.0</td>\n",
       "      <td>10.0</td>\n",
       "      <td>300.0</td>\n",
       "    </tr>\n",
       "    <tr>\n",
       "      <th>4</th>\n",
       "      <td>2011-01-01 04:00:00</td>\n",
       "      <td>2.0</td>\n",
       "      <td>10.0</td>\n",
       "      <td>300.0</td>\n",
       "    </tr>\n",
       "  </tbody>\n",
       "</table>\n",
       "</div>"
      ],
      "text/plain": [
       "             date_time  target_carbon_monoxide  target_benzene  \\\n",
       "0  2011-01-01 00:00:00                     2.0            10.0   \n",
       "1  2011-01-01 01:00:00                     2.0            10.0   \n",
       "2  2011-01-01 02:00:00                     2.0            10.0   \n",
       "3  2011-01-01 03:00:00                     2.0            10.0   \n",
       "4  2011-01-01 04:00:00                     2.0            10.0   \n",
       "\n",
       "   target_nitrogen_oxides  \n",
       "0                   300.0  \n",
       "1                   300.0  \n",
       "2                   300.0  \n",
       "3                   300.0  \n",
       "4                   300.0  "
      ]
     },
     "execution_count": 22,
     "metadata": {},
     "output_type": "execute_result"
    }
   ],
   "source": [
    "# submission format\n",
    "sub = pd.read_csv(\"sample_submission.csv\")\n",
    "sub.head()"
   ]
  },
  {
   "cell_type": "code",
   "execution_count": 23,
   "id": "silver-review",
   "metadata": {},
   "outputs": [],
   "source": [
    "# predict bn test data\n",
    "test = pd.read_csv(\"test.csv\")"
   ]
  },
  {
   "cell_type": "code",
   "execution_count": 24,
   "id": "desperate-cabinet",
   "metadata": {},
   "outputs": [
    {
     "data": {
      "text/html": [
       "<div>\n",
       "<style scoped>\n",
       "    .dataframe tbody tr th:only-of-type {\n",
       "        vertical-align: middle;\n",
       "    }\n",
       "\n",
       "    .dataframe tbody tr th {\n",
       "        vertical-align: top;\n",
       "    }\n",
       "\n",
       "    .dataframe thead th {\n",
       "        text-align: right;\n",
       "    }\n",
       "</style>\n",
       "<table border=\"1\" class=\"dataframe\">\n",
       "  <thead>\n",
       "    <tr style=\"text-align: right;\">\n",
       "      <th></th>\n",
       "      <th>deg_C</th>\n",
       "      <th>relative_humidity</th>\n",
       "      <th>absolute_humidity</th>\n",
       "      <th>sensor_1</th>\n",
       "      <th>sensor_2</th>\n",
       "      <th>sensor_3</th>\n",
       "      <th>sensor_4</th>\n",
       "      <th>sensor_5</th>\n",
       "      <th>numOfWeek</th>\n",
       "      <th>hour</th>\n",
       "    </tr>\n",
       "  </thead>\n",
       "  <tbody>\n",
       "    <tr>\n",
       "      <th>0</th>\n",
       "      <td>8.0</td>\n",
       "      <td>41.3</td>\n",
       "      <td>0.4375</td>\n",
       "      <td>0.078838</td>\n",
       "      <td>-0.682244</td>\n",
       "      <td>-0.279619</td>\n",
       "      <td>-1.808448</td>\n",
       "      <td>0.720201</td>\n",
       "      <td>52</td>\n",
       "      <td>0</td>\n",
       "    </tr>\n",
       "    <tr>\n",
       "      <th>1</th>\n",
       "      <td>5.1</td>\n",
       "      <td>51.7</td>\n",
       "      <td>0.4564</td>\n",
       "      <td>0.722709</td>\n",
       "      <td>-0.259488</td>\n",
       "      <td>-0.631384</td>\n",
       "      <td>-1.543423</td>\n",
       "      <td>1.875869</td>\n",
       "      <td>52</td>\n",
       "      <td>1</td>\n",
       "    </tr>\n",
       "    <tr>\n",
       "      <th>2</th>\n",
       "      <td>5.8</td>\n",
       "      <td>51.5</td>\n",
       "      <td>0.4689</td>\n",
       "      <td>0.050466</td>\n",
       "      <td>-0.213027</td>\n",
       "      <td>-0.612700</td>\n",
       "      <td>-1.631669</td>\n",
       "      <td>0.792807</td>\n",
       "      <td>52</td>\n",
       "      <td>2</td>\n",
       "    </tr>\n",
       "  </tbody>\n",
       "</table>\n",
       "</div>"
      ],
      "text/plain": [
       "   deg_C  relative_humidity  absolute_humidity  sensor_1  sensor_2  sensor_3  \\\n",
       "0    8.0               41.3             0.4375  0.078838 -0.682244 -0.279619   \n",
       "1    5.1               51.7             0.4564  0.722709 -0.259488 -0.631384   \n",
       "2    5.8               51.5             0.4689  0.050466 -0.213027 -0.612700   \n",
       "\n",
       "   sensor_4  sensor_5  numOfWeek  hour  \n",
       "0 -1.808448  0.720201         52     0  \n",
       "1 -1.543423  1.875869         52     1  \n",
       "2 -1.631669  0.792807         52     2  "
      ]
     },
     "execution_count": 24,
     "metadata": {},
     "output_type": "execute_result"
    }
   ],
   "source": [
    "# scale on fitted scalers(sensors)\n",
    "for i, se in enumerate(scalers):\n",
    "    test[sensors[i]] = se.transform(test[sensors[i]].values.reshape(-1, 1))\n",
    "    \n",
    "test['numOfWeek'] = test['date_time'].apply(lambda x: get_weeknum(x)).astype('int')\n",
    "test['hour'] = test['date_time'].apply(lambda x: get_hour(x)).astype('int')\n",
    "test.drop(['date_time'], axis = 1, inplace = True)\n",
    "test.head(3)"
   ]
  },
  {
   "cell_type": "code",
   "execution_count": 25,
   "id": "median-revision",
   "metadata": {},
   "outputs": [
    {
     "data": {
      "text/html": [
       "<div>\n",
       "<style scoped>\n",
       "    .dataframe tbody tr th:only-of-type {\n",
       "        vertical-align: middle;\n",
       "    }\n",
       "\n",
       "    .dataframe tbody tr th {\n",
       "        vertical-align: top;\n",
       "    }\n",
       "\n",
       "    .dataframe thead th {\n",
       "        text-align: right;\n",
       "    }\n",
       "</style>\n",
       "<table border=\"1\" class=\"dataframe\">\n",
       "  <thead>\n",
       "    <tr style=\"text-align: right;\">\n",
       "      <th></th>\n",
       "      <th>date_time</th>\n",
       "      <th>target_carbon_monoxide</th>\n",
       "      <th>target_benzene</th>\n",
       "      <th>target_nitrogen_oxides</th>\n",
       "    </tr>\n",
       "  </thead>\n",
       "  <tbody>\n",
       "    <tr>\n",
       "      <th>0</th>\n",
       "      <td>2011-01-01 00:00:00</td>\n",
       "      <td>1.057583</td>\n",
       "      <td>5.798122</td>\n",
       "      <td>111.596016</td>\n",
       "    </tr>\n",
       "    <tr>\n",
       "      <th>1</th>\n",
       "      <td>2011-01-01 01:00:00</td>\n",
       "      <td>1.733540</td>\n",
       "      <td>8.007839</td>\n",
       "      <td>116.739510</td>\n",
       "    </tr>\n",
       "    <tr>\n",
       "      <th>2</th>\n",
       "      <td>2011-01-01 02:00:00</td>\n",
       "      <td>1.468240</td>\n",
       "      <td>7.492241</td>\n",
       "      <td>116.739510</td>\n",
       "    </tr>\n",
       "    <tr>\n",
       "      <th>3</th>\n",
       "      <td>2011-01-01 03:00:00</td>\n",
       "      <td>1.613795</td>\n",
       "      <td>8.101520</td>\n",
       "      <td>116.739510</td>\n",
       "    </tr>\n",
       "    <tr>\n",
       "      <th>4</th>\n",
       "      <td>2011-01-01 04:00:00</td>\n",
       "      <td>1.234364</td>\n",
       "      <td>6.334759</td>\n",
       "      <td>116.739510</td>\n",
       "    </tr>\n",
       "  </tbody>\n",
       "</table>\n",
       "</div>"
      ],
      "text/plain": [
       "             date_time  target_carbon_monoxide  target_benzene  \\\n",
       "0  2011-01-01 00:00:00                1.057583        5.798122   \n",
       "1  2011-01-01 01:00:00                1.733540        8.007839   \n",
       "2  2011-01-01 02:00:00                1.468240        7.492241   \n",
       "3  2011-01-01 03:00:00                1.613795        8.101520   \n",
       "4  2011-01-01 04:00:00                1.234364        6.334759   \n",
       "\n",
       "   target_nitrogen_oxides  \n",
       "0              111.596016  \n",
       "1              116.739510  \n",
       "2              116.739510  \n",
       "3              116.739510  \n",
       "4              116.739510  "
      ]
     },
     "execution_count": 25,
     "metadata": {},
     "output_type": "execute_result"
    }
   ],
   "source": [
    "dtest = make_xgb_dmatrix(test, test = True)\n",
    "\n",
    "for i, target in enumerate(targets):\n",
    "    pred = models[i].predict(dtest)\n",
    "    sub[target] = pred\n",
    "sub.head()"
   ]
  },
  {
   "cell_type": "code",
   "execution_count": 26,
   "id": "usual-lawsuit",
   "metadata": {},
   "outputs": [],
   "source": [
    "sub.to_csv(\"submission.csv\", index = False) # 0.51975"
   ]
  },
  {
   "cell_type": "code",
   "execution_count": null,
   "id": "moral-lottery",
   "metadata": {},
   "outputs": [],
   "source": []
  }
 ],
 "metadata": {
  "kernelspec": {
   "display_name": "tf2",
   "language": "python",
   "name": "tensorflow"
  },
  "language_info": {
   "codemirror_mode": {
    "name": "ipython",
    "version": 3
   },
   "file_extension": ".py",
   "mimetype": "text/x-python",
   "name": "python",
   "nbconvert_exporter": "python",
   "pygments_lexer": "ipython3",
   "version": "3.8.8"
  }
 },
 "nbformat": 4,
 "nbformat_minor": 5
}
